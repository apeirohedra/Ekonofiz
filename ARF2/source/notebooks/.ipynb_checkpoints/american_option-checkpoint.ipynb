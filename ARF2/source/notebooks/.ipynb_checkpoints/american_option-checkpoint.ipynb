{
 "metadata": {
  "name": ""
 },
 "nbformat": 3,
 "nbformat_minor": 0,
 "worksheets": [
  {
   "cells": [
    {
     "cell_type": "code",
     "collapsed": false,
     "input": [
      "%%time\n",
      "\"\"\"\n",
      " Copyright (C) 2011, Enthought Inc\n",
      " Copyright (C) 2011, Patrick Henaff\n",
      "\n",
      " This program is distributed in the hope that it will be useful, but WITHOUT\n",
      " ANY WARRANTY; without even the implied warranty of MERCHANTABILITY or FITNESS\n",
      " FOR A PARTICULAR PURPOSE.  See the license for more details.\n",
      "\"\"\"\n",
      "from quantlib.instruments.api import AmericanExercise, VanillaOption, Put\n",
      "from quantlib.instruments.payoffs import PlainVanillaPayoff\n",
      "from quantlib.pricingengines.api import BaroneAdesiWhaleyApproximationEngine, FDAmericanEngine\n",
      "from quantlib.processes.black_scholes_process import BlackScholesMertonProcess\n",
      "from quantlib.quotes import SimpleQuote\n",
      "from quantlib.settings import Settings\n",
      "from quantlib.time.api import Actual365Fixed, Date, May, TARGET\n",
      "from quantlib.termstructures.volatility.equityfx.black_vol_term_structure \\\n",
      "        import BlackConstantVol\n",
      "from quantlib.termstructures.yields.api import FlatForward\n",
      "\n",
      "def main():\n",
      "    # global data\n",
      "    todays_date = Date(15, May, 1998)\n",
      "    Settings.instance().evaluation_date = todays_date\n",
      "    settlement_date = Date(17, May ,1998)\n",
      "\n",
      "    risk_free_rate = FlatForward(\n",
      "        reference_date = settlement_date,\n",
      "        forward        = 0.06,\n",
      "        daycounter     = Actual365Fixed()\n",
      "    )\n",
      "\n",
      "    # option parameters\n",
      "    exercise = AmericanExercise(\n",
      "        earliest_exercise_date = settlement_date,\n",
      "        latest_exercise_date   = Date(17, May, 1999)\n",
      "    )\n",
      "    payoff = PlainVanillaPayoff(Put, 40.0)\n",
      "\n",
      "    # market data\n",
      "    underlying = SimpleQuote(36.0)\n",
      "    volatility = BlackConstantVol(todays_date, TARGET(), 0.20, Actual365Fixed())\n",
      "    dividend_yield = FlatForward(\n",
      "        reference_date = settlement_date,\n",
      "        forward        = 0.00,\n",
      "        daycounter     = Actual365Fixed()\n",
      "    )\n",
      "\n",
      "    # report\n",
      "    header = '%19s' % 'method' + ' |' + \\\n",
      "            ' |'.join(['%17s' % tag for tag in ['value',\n",
      "                                                'estimated error',\n",
      "                                                'actual error' ] ])\n",
      "    print\n",
      "    print header\n",
      "    print '-'*len(header)\n",
      "\n",
      "    refValue = None\n",
      "    def report(method, x, dx = None):\n",
      "        e = '%.4f' % abs(x-refValue)\n",
      "        x = '%.5f' % x\n",
      "        if dx:\n",
      "            dx = '%.4f' % dx\n",
      "        else:\n",
      "            dx = 'n/a'\n",
      "        print '%19s' % method + ' |' + \\\n",
      "            ' |'.join(['%17s' % y for y in [x, dx, e] ])\n",
      "\n",
      "    # good to go\n",
      "\n",
      "    process = BlackScholesMertonProcess(\n",
      "        underlying, dividend_yield, risk_free_rate, volatility\n",
      "    )\n",
      "\n",
      "    option = VanillaOption(payoff, exercise)\n",
      "\n",
      "    refValue = 4.48667344\n",
      "    report('reference value',refValue)\n",
      "\n",
      "    # method: analytic\n",
      "\n",
      "    option.set_pricing_engine(BaroneAdesiWhaleyApproximationEngine(process))\n",
      "    report('Barone-Adesi-Whaley',option.net_present_value)\n",
      "\n",
      "    \n",
      "\n",
      "    #option.setPricingEngine(BjerksundStenslandEngine(process))\n",
      "    #report('Bjerksund-Stensland',option.net_present_value)\n",
      "\n",
      "    \n",
      "    # method: finite differences\n",
      "    timeSteps = 801\n",
      "    gridPoints = 800\n",
      "\n",
      "    option.setPricingEngine(FDAmericanEngine(process,timeSteps,gridPoints))\n",
      "    report('finite differences',option.net_present_value)\n",
      "\n",
      "    return \n",
      "    # method: binomial\n",
      "    timeSteps = 801\n",
      "\n",
      "    option.setPricingEngine(BinomialVanillaEngine(process,'jr',timeSteps))\n",
      "    report('binomial (JR)',option.net_present_value)\n",
      "\n",
      "    option.setPricingEngine(BinomialVanillaEngine(process,'crr',timeSteps))\n",
      "    report('binomial (CRR)',option.NPV())\n",
      "\n",
      "    option.setPricingEngine(BinomialVanillaEngine(process,'eqp',timeSteps))\n",
      "    report('binomial (EQP)',option.NPV())\n",
      "\n",
      "    option.setPricingEngine(BinomialVanillaEngine(process,'trigeorgis',timeSteps))\n",
      "    report('bin. (Trigeorgis)',option.NPV())\n",
      "\n",
      "    option.setPricingEngine(BinomialVanillaEngine(process,'tian',timeSteps))\n",
      "    report('binomial (Tian)',option.NPV())\n",
      "\n",
      "    option.setPricingEngine(BinomialVanillaEngine(process,'lr',timeSteps))\n",
      "    report('binomial (LR)',option.NPV())\n",
      "\n",
      "if __name__ == '__main__':\n",
      "    main()"
     ],
     "language": "python",
     "metadata": {},
     "outputs": [
      {
       "ename": "AttributeError",
       "evalue": "'quantlib.instruments.option.VanillaOption' object has no attribute 'setPricingEngine'",
       "output_type": "pyerr",
       "traceback": [
        "\u001b[1;31m---------------------------------------------------------------------------\u001b[0m\n\u001b[1;31mAttributeError\u001b[0m                            Traceback (most recent call last)",
        "\u001b[1;32m<ipython-input-7-5215bd25d9b3>\u001b[0m in \u001b[0;36m<module>\u001b[1;34m()\u001b[0m\n\u001b[1;32m----> 1\u001b[1;33m \u001b[0mget_ipython\u001b[0m\u001b[1;33m(\u001b[0m\u001b[1;33m)\u001b[0m\u001b[1;33m.\u001b[0m\u001b[0mrun_cell_magic\u001b[0m\u001b[1;33m(\u001b[0m\u001b[1;34mu'time'\u001b[0m\u001b[1;33m,\u001b[0m \u001b[1;34mu''\u001b[0m\u001b[1;33m,\u001b[0m \u001b[1;34mu'\"\"\"\\n Copyright (C) 2011, Enthought Inc\\n Copyright (C) 2011, Patrick Henaff\\n\\n This program is distributed in the hope that it will be useful, but WITHOUT\\n ANY WARRANTY; without even the implied warranty of MERCHANTABILITY or FITNESS\\n FOR A PARTICULAR PURPOSE.  See the license for more details.\\n\"\"\"\\nfrom quantlib.instruments.api import AmericanExercise, VanillaOption, Put\\nfrom quantlib.instruments.payoffs import PlainVanillaPayoff\\nfrom quantlib.pricingengines.api import BaroneAdesiWhaleyApproximationEngine, FDAmericanEngine\\nfrom quantlib.processes.black_scholes_process import BlackScholesMertonProcess\\nfrom quantlib.quotes import SimpleQuote\\nfrom quantlib.settings import Settings\\nfrom quantlib.time.api import Actual365Fixed, Date, May, TARGET\\nfrom quantlib.termstructures.volatility.equityfx.black_vol_term_structure \\\\\\n        import BlackConstantVol\\nfrom quantlib.termstructures.yields.api import FlatForward\\n\\ndef main():\\n    # global data\\n    todays_date = Date(15, May, 1998)\\n    Settings.instance().evaluation_date = todays_date\\n    settlement_date = Date(17, May ,1998)\\n\\n    risk_free_rate = FlatForward(\\n        reference_date = settlement_date,\\n        forward        = 0.06,\\n        daycounter     = Actual365Fixed()\\n    )\\n\\n    # option parameters\\n    exercise = AmericanExercise(\\n        earliest_exercise_date = settlement_date,\\n        latest_exercise_date   = Date(17, May, 1999)\\n    )\\n    payoff = PlainVanillaPayoff(Put, 40.0)\\n\\n    # market data\\n    underlying = SimpleQuote(36.0)\\n    volatility = BlackConstantVol(todays_date, TARGET(), 0.20, Actual365Fixed())\\n    dividend_yield = FlatForward(\\n        reference_date = settlement_date,\\n        forward        = 0.00,\\n        daycounter     = Actual365Fixed()\\n    )\\n\\n    # report\\n    header = \\'%19s\\' % \\'method\\' + \\' |\\' + \\\\\\n            \\' |\\'.join([\\'%17s\\' % tag for tag in [\\'value\\',\\n                                                \\'estimated error\\',\\n                                                \\'actual error\\' ] ])\\n    print\\n    print header\\n    print \\'-\\'*len(header)\\n\\n    refValue = None\\n    def report(method, x, dx = None):\\n        e = \\'%.4f\\' % abs(x-refValue)\\n        x = \\'%.5f\\' % x\\n        if dx:\\n            dx = \\'%.4f\\' % dx\\n        else:\\n            dx = \\'n/a\\'\\n        print \\'%19s\\' % method + \\' |\\' + \\\\\\n            \\' |\\'.join([\\'%17s\\' % y for y in [x, dx, e] ])\\n\\n    # good to go\\n\\n    process = BlackScholesMertonProcess(\\n        underlying, dividend_yield, risk_free_rate, volatility\\n    )\\n\\n    option = VanillaOption(payoff, exercise)\\n\\n    refValue = 4.48667344\\n    report(\\'reference value\\',refValue)\\n\\n    # method: analytic\\n\\n    option.set_pricing_engine(BaroneAdesiWhaleyApproximationEngine(process))\\n    report(\\'Barone-Adesi-Whaley\\',option.net_present_value)\\n\\n    \\n\\n    #option.setPricingEngine(BjerksundStenslandEngine(process))\\n    #report(\\'Bjerksund-Stensland\\',option.net_present_value)\\n\\n    \\n    # method: finite differences\\n    timeSteps = 801\\n    gridPoints = 800\\n\\n    option.setPricingEngine(FDAmericanEngine(process,timeSteps,gridPoints))\\n    report(\\'finite differences\\',option.net_present_value)\\n\\n    return \\n    # method: binomial\\n    timeSteps = 801\\n\\n    option.setPricingEngine(BinomialVanillaEngine(process,\\'jr\\',timeSteps))\\n    report(\\'binomial (JR)\\',option.net_present_value)\\n\\n    option.setPricingEngine(BinomialVanillaEngine(process,\\'crr\\',timeSteps))\\n    report(\\'binomial (CRR)\\',option.NPV())\\n\\n    option.setPricingEngine(BinomialVanillaEngine(process,\\'eqp\\',timeSteps))\\n    report(\\'binomial (EQP)\\',option.NPV())\\n\\n    option.setPricingEngine(BinomialVanillaEngine(process,\\'trigeorgis\\',timeSteps))\\n    report(\\'bin. (Trigeorgis)\\',option.NPV())\\n\\n    option.setPricingEngine(BinomialVanillaEngine(process,\\'tian\\',timeSteps))\\n    report(\\'binomial (Tian)\\',option.NPV())\\n\\n    option.setPricingEngine(BinomialVanillaEngine(process,\\'lr\\',timeSteps))\\n    report(\\'binomial (LR)\\',option.NPV())\\n\\nif __name__ == \\'__main__\\':\\n    main()'\u001b[0m\u001b[1;33m)\u001b[0m\u001b[1;33m\u001b[0m\u001b[0m\n\u001b[0m",
        "\u001b[1;32m/home/marcin/.local/lib/python2.7/site-packages/IPython/core/interactiveshell.pyc\u001b[0m in \u001b[0;36mrun_cell_magic\u001b[1;34m(self, magic_name, line, cell)\u001b[0m\n\u001b[0;32m   2127\u001b[0m             \u001b[0mmagic_arg_s\u001b[0m \u001b[1;33m=\u001b[0m \u001b[0mself\u001b[0m\u001b[1;33m.\u001b[0m\u001b[0mvar_expand\u001b[0m\u001b[1;33m(\u001b[0m\u001b[0mline\u001b[0m\u001b[1;33m,\u001b[0m \u001b[0mstack_depth\u001b[0m\u001b[1;33m)\u001b[0m\u001b[1;33m\u001b[0m\u001b[0m\n\u001b[0;32m   2128\u001b[0m             \u001b[1;32mwith\u001b[0m \u001b[0mself\u001b[0m\u001b[1;33m.\u001b[0m\u001b[0mbuiltin_trap\u001b[0m\u001b[1;33m:\u001b[0m\u001b[1;33m\u001b[0m\u001b[0m\n\u001b[1;32m-> 2129\u001b[1;33m                 \u001b[0mresult\u001b[0m \u001b[1;33m=\u001b[0m \u001b[0mfn\u001b[0m\u001b[1;33m(\u001b[0m\u001b[0mmagic_arg_s\u001b[0m\u001b[1;33m,\u001b[0m \u001b[0mcell\u001b[0m\u001b[1;33m)\u001b[0m\u001b[1;33m\u001b[0m\u001b[0m\n\u001b[0m\u001b[0;32m   2130\u001b[0m             \u001b[1;32mreturn\u001b[0m \u001b[0mresult\u001b[0m\u001b[1;33m\u001b[0m\u001b[0m\n\u001b[0;32m   2131\u001b[0m \u001b[1;33m\u001b[0m\u001b[0m\n",
        "\u001b[1;32m/home/marcin/.local/lib/python2.7/site-packages/IPython/core/magics/execution.pyc\u001b[0m in \u001b[0;36mtime\u001b[1;34m(self, line, cell, local_ns)\u001b[0m\n",
        "\u001b[1;32m/home/marcin/.local/lib/python2.7/site-packages/IPython/core/magic.pyc\u001b[0m in \u001b[0;36m<lambda>\u001b[1;34m(f, *a, **k)\u001b[0m\n\u001b[0;32m    189\u001b[0m     \u001b[1;31m# but it's overkill for just that one bit of state.\u001b[0m\u001b[1;33m\u001b[0m\u001b[1;33m\u001b[0m\u001b[0m\n\u001b[0;32m    190\u001b[0m     \u001b[1;32mdef\u001b[0m \u001b[0mmagic_deco\u001b[0m\u001b[1;33m(\u001b[0m\u001b[0marg\u001b[0m\u001b[1;33m)\u001b[0m\u001b[1;33m:\u001b[0m\u001b[1;33m\u001b[0m\u001b[0m\n\u001b[1;32m--> 191\u001b[1;33m         \u001b[0mcall\u001b[0m \u001b[1;33m=\u001b[0m \u001b[1;32mlambda\u001b[0m \u001b[0mf\u001b[0m\u001b[1;33m,\u001b[0m \u001b[1;33m*\u001b[0m\u001b[0ma\u001b[0m\u001b[1;33m,\u001b[0m \u001b[1;33m**\u001b[0m\u001b[0mk\u001b[0m\u001b[1;33m:\u001b[0m \u001b[0mf\u001b[0m\u001b[1;33m(\u001b[0m\u001b[1;33m*\u001b[0m\u001b[0ma\u001b[0m\u001b[1;33m,\u001b[0m \u001b[1;33m**\u001b[0m\u001b[0mk\u001b[0m\u001b[1;33m)\u001b[0m\u001b[1;33m\u001b[0m\u001b[0m\n\u001b[0m\u001b[0;32m    192\u001b[0m \u001b[1;33m\u001b[0m\u001b[0m\n\u001b[0;32m    193\u001b[0m         \u001b[1;32mif\u001b[0m \u001b[0mcallable\u001b[0m\u001b[1;33m(\u001b[0m\u001b[0marg\u001b[0m\u001b[1;33m)\u001b[0m\u001b[1;33m:\u001b[0m\u001b[1;33m\u001b[0m\u001b[0m\n",
        "\u001b[1;32m/home/marcin/.local/lib/python2.7/site-packages/IPython/core/magics/execution.pyc\u001b[0m in \u001b[0;36mtime\u001b[1;34m(self, line, cell, local_ns)\u001b[0m\n\u001b[0;32m   1043\u001b[0m         \u001b[1;32melse\u001b[0m\u001b[1;33m:\u001b[0m\u001b[1;33m\u001b[0m\u001b[0m\n\u001b[0;32m   1044\u001b[0m             \u001b[0mst\u001b[0m \u001b[1;33m=\u001b[0m \u001b[0mclock2\u001b[0m\u001b[1;33m(\u001b[0m\u001b[1;33m)\u001b[0m\u001b[1;33m\u001b[0m\u001b[0m\n\u001b[1;32m-> 1045\u001b[1;33m             \u001b[1;32mexec\u001b[0m \u001b[0mcode\u001b[0m \u001b[1;32min\u001b[0m \u001b[0mglob\u001b[0m\u001b[1;33m,\u001b[0m \u001b[0mlocal_ns\u001b[0m\u001b[1;33m\u001b[0m\u001b[0m\n\u001b[0m\u001b[0;32m   1046\u001b[0m             \u001b[0mend\u001b[0m \u001b[1;33m=\u001b[0m \u001b[0mclock2\u001b[0m\u001b[1;33m(\u001b[0m\u001b[1;33m)\u001b[0m\u001b[1;33m\u001b[0m\u001b[0m\n\u001b[0;32m   1047\u001b[0m             \u001b[0mout\u001b[0m \u001b[1;33m=\u001b[0m \u001b[0mNone\u001b[0m\u001b[1;33m\u001b[0m\u001b[0m\n",
        "\u001b[1;32m<timed exec>\u001b[0m in \u001b[0;36m<module>\u001b[1;34m()\u001b[0m\n",
        "\u001b[1;32m<timed exec>\u001b[0m in \u001b[0;36mmain\u001b[1;34m()\u001b[0m\n",
        "\u001b[1;31mAttributeError\u001b[0m: 'quantlib.instruments.option.VanillaOption' object has no attribute 'setPricingEngine'"
       ]
      },
      {
       "output_type": "stream",
       "stream": "stdout",
       "text": [
        "\n",
        "             method |            value |  estimated error |     actual error\n",
        "----------------------------------------------------------------------------\n",
        "    reference value |          4.48667 |              n/a |           0.0000\n",
        "Barone-Adesi-Whaley |          4.46563 |              n/a |           0.0210\n"
       ]
      }
     ],
     "prompt_number": 7
    },
    {
     "cell_type": "code",
     "collapsed": false,
     "input": [
      "option = VanillaOption(payoff, exercise)\n"
     ],
     "language": "python",
     "metadata": {},
     "outputs": [
      {
       "ename": "NameError",
       "evalue": "name 'payoff' is not defined",
       "output_type": "pyerr",
       "traceback": [
        "\u001b[1;31m---------------------------------------------------------------------------\u001b[0m\n\u001b[1;31mNameError\u001b[0m                                 Traceback (most recent call last)",
        "\u001b[1;32m<ipython-input-8-42f664f02446>\u001b[0m in \u001b[0;36m<module>\u001b[1;34m()\u001b[0m\n\u001b[1;32m----> 1\u001b[1;33m \u001b[0moption\u001b[0m \u001b[1;33m=\u001b[0m \u001b[0mVanillaOption\u001b[0m\u001b[1;33m(\u001b[0m\u001b[0mpayoff\u001b[0m\u001b[1;33m,\u001b[0m \u001b[0mexercise\u001b[0m\u001b[1;33m)\u001b[0m\u001b[1;33m\u001b[0m\u001b[0m\n\u001b[0m",
        "\u001b[1;31mNameError\u001b[0m: name 'payoff' is not defined"
       ]
      }
     ],
     "prompt_number": 8
    },
    {
     "cell_type": "code",
     "collapsed": false,
     "input": [
      "%%time\n",
      "\n",
      "from quantlib.instruments.api import AmericanExercise, VanillaOption, Put\n",
      "from quantlib.instruments.payoffs import PlainVanillaPayoff\n",
      "from quantlib.pricingengines.api import BaroneAdesiWhaleyApproximationEngine, FDAmericanEngine\n",
      "from quantlib.processes.black_scholes_process import BlackScholesMertonProcess\n",
      "from quantlib.quotes import SimpleQuote\n",
      "from quantlib.settings import Settings\n",
      "from quantlib.time.api import Actual365Fixed, Date, May, TARGET\n",
      "from quantlib.termstructures.volatility.equityfx.black_vol_term_structure \\\n",
      "        import BlackConstantVol\n",
      "from quantlib.termstructures.yields.api import FlatForward\n",
      "\n",
      "\n",
      "todays_date = Date(15, May, 1998)\n",
      "Settings.instance().evaluation_date = todays_date\n",
      "settlement_date = Date(17, May ,1998)\n",
      "\n",
      "risk_free_rate = FlatForward(\n",
      "    reference_date = settlement_date,\n",
      "    forward        = 0.06,\n",
      "    daycounter     = Actual365Fixed()\n",
      ")\n",
      "\n",
      "# option parameters\n",
      "exercise = AmericanExercise(\n",
      "    earliest_exercise_date = settlement_date,\n",
      "    latest_exercise_date   = Date(17, May, 1999)\n",
      ")\n",
      "payoff = PlainVanillaPayoff(Put, 40.0)\n",
      "\n",
      "# market data\n",
      "underlying = SimpleQuote(36.0)\n",
      "volatility = BlackConstantVol(todays_date, TARGET(), 0.20, Actual365Fixed())\n",
      "dividend_yield = FlatForward(\n",
      "    reference_date = settlement_date,\n",
      "    forward        = 0.00,\n",
      "    daycounter     = Actual365Fixed()\n",
      ")\n",
      "\n",
      "# report\n",
      "header = '%19s' % 'method' + ' |' + \\\n",
      "        ' |'.join(['%17s' % tag for tag in ['value',\n",
      "                                            'estimated error',\n",
      "                                            'actual error' ] ])\n",
      "print\n",
      "print header\n",
      "print '-'*len(header)\n",
      "\n",
      "refValue = None\n",
      "def report(method, x, dx = None):\n",
      "    e = '%.4f' % abs(x-refValue)\n",
      "    x = '%.5f' % x\n",
      "    if dx:\n",
      "        dx = '%.4f' % dx\n",
      "    else:\n",
      "        dx = 'n/a'\n",
      "    print '%19s' % method + ' |' + \\\n",
      "        ' |'.join(['%17s' % y for y in [x, dx, e] ])\n",
      "\n",
      "# good to go\n",
      "\n",
      "process = BlackScholesMertonProcess(\n",
      "    underlying, dividend_yield, risk_free_rate, volatility\n",
      ")\n",
      "\n",
      "option = VanillaOption(payoff, exercise)\n",
      "\n",
      "refValue = 4.48667344\n",
      "report('reference value',refValue)\n",
      "\n",
      "# method: analytic\n",
      "\n",
      "option.set_pricing_engine(BaroneAdesiWhaleyApproximationEngine(process))\n",
      "report('Barone-Adesi-Whaley',option.net_present_value)"
     ],
     "language": "python",
     "metadata": {},
     "outputs": [
      {
       "output_type": "stream",
       "stream": "stdout",
       "text": [
        "\n",
        "             method |            value |  estimated error |     actual error\n",
        "----------------------------------------------------------------------------\n",
        "    reference value |          4.48667 |              n/a |           0.0000\n",
        "Barone-Adesi-Whaley |          4.46563 |              n/a |           0.0210\n",
        "CPU times: user 0 ns, sys: 0 ns, total: 0 ns\n",
        "Wall time: 216 \u00b5s\n"
       ]
      }
     ],
     "prompt_number": 10
    },
    {
     "cell_type": "code",
     "collapsed": false,
     "input": [
      "# method: finite differences\n",
      "timeSteps = 801\n",
      "gridPoints = 800\n",
      "option.set_pricing_engine(FDAmericanEngine('CrankNicolson', process, timeSteps, gridPoints))\n",
      "report('finite differences',option.net_present_value)"
     ],
     "language": "python",
     "metadata": {},
     "outputs": [
      {
       "output_type": "stream",
       "stream": "stdout",
       "text": [
        " finite differences |          4.49391 |              n/a |           0.0072\n"
       ]
      }
     ],
     "prompt_number": 16
    },
    {
     "cell_type": "code",
     "collapsed": false,
     "input": [
      "option.set_pricing_engine(BjerksundStenslandEngine(process))"
     ],
     "language": "python",
     "metadata": {},
     "outputs": [
      {
       "ename": "NameError",
       "evalue": "name 'BjerksundStenslandEngine' is not defined",
       "output_type": "pyerr",
       "traceback": [
        "\u001b[1;31m---------------------------------------------------------------------------\u001b[0m\n\u001b[1;31mNameError\u001b[0m                                 Traceback (most recent call last)",
        "\u001b[1;32m<ipython-input-17-fb28dd89fc4a>\u001b[0m in \u001b[0;36m<module>\u001b[1;34m()\u001b[0m\n\u001b[1;32m----> 1\u001b[1;33m \u001b[0moption\u001b[0m\u001b[1;33m.\u001b[0m\u001b[0mset_pricing_engine\u001b[0m\u001b[1;33m(\u001b[0m\u001b[0mBjerksundStenslandEngine\u001b[0m\u001b[1;33m(\u001b[0m\u001b[0mprocess\u001b[0m\u001b[1;33m)\u001b[0m\u001b[1;33m)\u001b[0m\u001b[1;33m\u001b[0m\u001b[0m\n\u001b[0m",
        "\u001b[1;31mNameError\u001b[0m: name 'BjerksundStenslandEngine' is not defined"
       ]
      }
     ],
     "prompt_number": 17
    },
    {
     "cell_type": "code",
     "collapsed": false,
     "input": [
      "#option.setPricingEngine(BjerksundStenslandEngine(process))\n",
      "#report('Bjerksund-Stensland',option.net_present_value)\n",
      "\n",
      "\n",
      "# method: finite differences\n",
      "timeSteps = 801\n",
      "gridPoints = 800\n",
      "\n",
      "option.setPricingEngine(FDAmericanEngine(process,timeSteps,gridPoints))\n",
      "report('finite differences',option.net_present_value)\n",
      "\n",
      "\n",
      "# method: binomial\n",
      "timeSteps = 801\n",
      "\n",
      "option.setPricingEngine(BinomialVanillaEngine(process,'jr',timeSteps))\n",
      "report('binomial (JR)',option.net_present_value)\n",
      "\n",
      "option.setPricingEngine(BinomialVanillaEngine(process,'crr',timeSteps))\n",
      "report('binomial (CRR)',option.NPV())\n",
      "\n",
      "option.setPricingEngine(BinomialVanillaEngine(process,'eqp',timeSteps))\n",
      "report('binomial (EQP)',option.NPV())\n",
      "\n",
      "option.setPricingEngine(BinomialVanillaEngine(process,'trigeorgis',timeSteps))\n",
      "report('bin. (Trigeorgis)',option.NPV())\n",
      "\n",
      "option.setPricingEngine(BinomialVanillaEngine(process,'tian',timeSteps))\n",
      "report('binomial (Tian)',option.NPV())\n",
      "\n",
      "option.setPricingEngine(BinomialVanillaEngine(process,'lr',timeSteps))\n",
      "report('binomial (LR)',option.NPV())"
     ],
     "language": "python",
     "metadata": {},
     "outputs": []
    },
    {
     "cell_type": "markdown",
     "metadata": {},
     "source": [
      "# Quantlib-python\n"
     ]
    },
    {
     "cell_type": "code",
     "collapsed": false,
     "input": [
      "%loadpy /home/marcin/Desktop/One/Book_Z_Markiem/QL/examples-Quantlib/european-option.py"
     ],
     "language": "python",
     "metadata": {},
     "outputs": [],
     "prompt_number": 2
    },
    {
     "cell_type": "code",
     "collapsed": false,
     "input": [
      "from QuantLib import *\n"
     ],
     "language": "python",
     "metadata": {},
     "outputs": [],
     "prompt_number": 4
    },
    {
     "cell_type": "code",
     "collapsed": false,
     "input": [
      "t= TARGET()\n",
      "t.isBusinessDay()"
     ],
     "language": "python",
     "metadata": {},
     "outputs": [
      {
       "ename": "TypeError",
       "evalue": "Calendar_isBusinessDay expected 2 arguments, got 1",
       "output_type": "pyerr",
       "traceback": [
        "\u001b[1;31m---------------------------------------------------------------------------\u001b[0m\n\u001b[1;31mTypeError\u001b[0m                                 Traceback (most recent call last)",
        "\u001b[1;32m<ipython-input-41-e474b8c20cc4>\u001b[0m in \u001b[0;36m<module>\u001b[1;34m()\u001b[0m\n\u001b[0;32m      1\u001b[0m \u001b[0mt\u001b[0m\u001b[1;33m=\u001b[0m \u001b[0mTARGET\u001b[0m\u001b[1;33m(\u001b[0m\u001b[1;33m)\u001b[0m\u001b[1;33m\u001b[0m\u001b[0m\n\u001b[1;32m----> 2\u001b[1;33m \u001b[0mt\u001b[0m\u001b[1;33m.\u001b[0m\u001b[0misBusinessDay\u001b[0m\u001b[1;33m(\u001b[0m\u001b[1;33m)\u001b[0m\u001b[1;33m\u001b[0m\u001b[0m\n\u001b[0m",
        "\u001b[1;32m/usr/lib/python2.7/dist-packages/QuantLib/QuantLib.pyc\u001b[0m in \u001b[0;36misBusinessDay\u001b[1;34m(self, *args)\u001b[0m\n\u001b[0;32m   1436\u001b[0m     \u001b[1;32mdef\u001b[0m \u001b[0m__init__\u001b[0m\u001b[1;33m(\u001b[0m\u001b[0mself\u001b[0m\u001b[1;33m,\u001b[0m \u001b[1;33m*\u001b[0m\u001b[0margs\u001b[0m\u001b[1;33m,\u001b[0m \u001b[1;33m**\u001b[0m\u001b[0mkwargs\u001b[0m\u001b[1;33m)\u001b[0m\u001b[1;33m:\u001b[0m \u001b[1;32mraise\u001b[0m \u001b[0mAttributeError\u001b[0m\u001b[1;33m(\u001b[0m\u001b[1;34m\"No constructor defined\"\u001b[0m\u001b[1;33m)\u001b[0m\u001b[1;33m\u001b[0m\u001b[0m\n\u001b[0;32m   1437\u001b[0m     \u001b[0m__repr__\u001b[0m \u001b[1;33m=\u001b[0m \u001b[0m_swig_repr\u001b[0m\u001b[1;33m\u001b[0m\u001b[0m\n\u001b[1;32m-> 1438\u001b[1;33m     \u001b[1;32mdef\u001b[0m \u001b[0misBusinessDay\u001b[0m\u001b[1;33m(\u001b[0m\u001b[0mself\u001b[0m\u001b[1;33m,\u001b[0m \u001b[1;33m*\u001b[0m\u001b[0margs\u001b[0m\u001b[1;33m)\u001b[0m\u001b[1;33m:\u001b[0m \u001b[1;32mreturn\u001b[0m \u001b[0m_QuantLib\u001b[0m\u001b[1;33m.\u001b[0m\u001b[0mCalendar_isBusinessDay\u001b[0m\u001b[1;33m(\u001b[0m\u001b[0mself\u001b[0m\u001b[1;33m,\u001b[0m \u001b[1;33m*\u001b[0m\u001b[0margs\u001b[0m\u001b[1;33m)\u001b[0m\u001b[1;33m\u001b[0m\u001b[0m\n\u001b[0m\u001b[0;32m   1439\u001b[0m     \u001b[1;32mdef\u001b[0m \u001b[0misHoliday\u001b[0m\u001b[1;33m(\u001b[0m\u001b[0mself\u001b[0m\u001b[1;33m,\u001b[0m \u001b[1;33m*\u001b[0m\u001b[0margs\u001b[0m\u001b[1;33m)\u001b[0m\u001b[1;33m:\u001b[0m \u001b[1;32mreturn\u001b[0m \u001b[0m_QuantLib\u001b[0m\u001b[1;33m.\u001b[0m\u001b[0mCalendar_isHoliday\u001b[0m\u001b[1;33m(\u001b[0m\u001b[0mself\u001b[0m\u001b[1;33m,\u001b[0m \u001b[1;33m*\u001b[0m\u001b[0margs\u001b[0m\u001b[1;33m)\u001b[0m\u001b[1;33m\u001b[0m\u001b[0m\n\u001b[0;32m   1440\u001b[0m     \u001b[1;32mdef\u001b[0m \u001b[0misEndOfMonth\u001b[0m\u001b[1;33m(\u001b[0m\u001b[0mself\u001b[0m\u001b[1;33m,\u001b[0m \u001b[1;33m*\u001b[0m\u001b[0margs\u001b[0m\u001b[1;33m)\u001b[0m\u001b[1;33m:\u001b[0m \u001b[1;32mreturn\u001b[0m \u001b[0m_QuantLib\u001b[0m\u001b[1;33m.\u001b[0m\u001b[0mCalendar_isEndOfMonth\u001b[0m\u001b[1;33m(\u001b[0m\u001b[0mself\u001b[0m\u001b[1;33m,\u001b[0m \u001b[1;33m*\u001b[0m\u001b[0margs\u001b[0m\u001b[1;33m)\u001b[0m\u001b[1;33m\u001b[0m\u001b[0m\n",
        "\u001b[1;31mTypeError\u001b[0m: Calendar_isBusinessDay expected 2 arguments, got 1"
       ]
      }
     ],
     "prompt_number": 41
    },
    {
     "cell_type": "code",
     "collapsed": false,
     "input": [
      "a = BlackConstantVol(todaysDate, TARGET(), 0.10, Actual365Fixed())\n"
     ],
     "language": "python",
     "metadata": {},
     "outputs": [],
     "prompt_number": 49
    },
    {
     "cell_type": "code",
     "collapsed": false,
     "input": [
      "from QuantLib import *\n",
      "\n",
      "# global data\n",
      "todaysDate = Date(15,May,1998)\n",
      "Settings.instance().evaluationDate = todaysDate\n",
      "settlementDate = Date(17,May,1998)\n",
      "riskFreeRate = FlatForward(settlementDate, 0.05, Actual365Fixed())\n",
      "\n",
      "# option parameters\n",
      "exercise = EuropeanExercise(Date(17,May,2010))\n",
      "payoff = PlainVanillaPayoff(Option.Call, 8.0)\n",
      "\n",
      "# market data\n",
      "underlying = SimpleQuote(7.0)\n",
      "volatility = BlackConstantVol(todaysDate, TARGET(), 0.10, Actual365Fixed())\n",
      "dividendYield = FlatForward(settlementDate, 0.05, Actual365Fixed())\n",
      "\n",
      "# report\n",
      "header = ' |'.join(['%17s' % tag for tag in ['method','value',\n",
      "                                            'estimated error',\n",
      "                                            'actual error' ] ])\n",
      "print\n",
      "print header\n",
      "print '-'*len(header)\n",
      "\n",
      "refValue = None\n",
      "def report(method, x, dx = None):\n",
      "    e = '%.4f' % abs(x-refValue)\n",
      "    x = '%.5f' % x\n",
      "    if dx:\n",
      "        dx = '%.4f' % dx\n",
      "    else:\n",
      "        dx = 'n/a'\n",
      "    print ' |'.join(['%17s' % y for y in [method, x, dx, e] ])\n",
      "\n",
      "\n",
      "# good to go\n",
      "\n",
      "process = BlackScholesMertonProcess(QuoteHandle(underlying),\n",
      "                                    YieldTermStructureHandle(dividendYield),\n",
      "                                    YieldTermStructureHandle(riskFreeRate),\n",
      "                                    BlackVolTermStructureHandle(volatility))\n",
      "\n",
      "option = VanillaOption(payoff, exercise)\n",
      "\n",
      "# method: analytic\n",
      "option.setPricingEngine(AnalyticEuropeanEngine(process))\n",
      "value = option.NPV()\n",
      "refValue = value\n",
      "report('analytic',value)\n",
      "\n",
      "# method: integral\n",
      "option.setPricingEngine(IntegralEngine(process))\n",
      "report('integral',option.NPV())\n",
      "\n",
      "# method: finite differences\n",
      "timeSteps = 801\n",
      "gridPoints = 800\n",
      "\n",
      "option.setPricingEngine(FDEuropeanEngine(process,timeSteps,gridPoints))\n",
      "report('finite diff.',option.NPV())\n",
      "\n",
      "# method: binomial\n",
      "timeSteps = 801\n",
      "\n",
      "option.setPricingEngine(BinomialVanillaEngine(process,'jr',timeSteps))\n",
      "report('binomial (JR)',option.NPV())\n",
      "\n",
      "option.setPricingEngine(BinomialVanillaEngine(process,'crr',timeSteps))\n",
      "report('binomial (CRR)',option.NPV())\n",
      "\n",
      "option.setPricingEngine(BinomialVanillaEngine(process,'eqp',timeSteps))\n",
      "report('binomial (EQP)',option.NPV())\n",
      "\n",
      "option.setPricingEngine(BinomialVanillaEngine(process,'trigeorgis',timeSteps))\n",
      "report('bin. (Trigeorgis)',option.NPV())\n",
      "\n",
      "option.setPricingEngine(BinomialVanillaEngine(process,'tian',timeSteps))\n",
      "report('binomial (Tian)',option.NPV())\n",
      "\n",
      "option.setPricingEngine(BinomialVanillaEngine(process,'lr',timeSteps))\n",
      "report('binomial (LR)',option.NPV())\n",
      "\n",
      "# method: finite differences\n",
      "# not yet implemented\n",
      "\n",
      "# method: Monte Carlo\n",
      "option.setPricingEngine(MCEuropeanEngine(process,\n",
      "                                         'pseudorandom',\n",
      "                                         timeSteps = 1,\n",
      "                                         requiredTolerance = 0.02,\n",
      "                                         seed = 42))\n",
      "report('MC (crude)', option.NPV(), option.errorEstimate())\n",
      "\n",
      "option.setPricingEngine(MCEuropeanEngine(process,\n",
      "                                         'lowdiscrepancy',\n",
      "                                         timeSteps = 1,\n",
      "                                         requiredSamples = 32768))\n",
      "report('MC (Sobol)', option.NPV())\n",
      "\n"
     ],
     "language": "python",
     "metadata": {},
     "outputs": [
      {
       "output_type": "stream",
       "stream": "stdout",
       "text": [
        "\n",
        "           method |            value |  estimated error |     actual error\n",
        "--------------------------------------------------------------------------\n",
        "         analytic |          0.33280 |              n/a |           0.0000\n",
        "         integral |          0.33280 |              n/a |           0.0000\n",
        "     finite diff. |          0.33269 |              n/a |           0.0001\n",
        "    binomial (JR) |          0.33280 |              n/a |           0.0000\n",
        "   binomial (CRR) |          0.33257 |              n/a |           0.0002\n",
        "   binomial (EQP) |          0.33496 |              n/a |           0.0022\n",
        "bin. (Trigeorgis) |          0.33258 |              n/a |           0.0002\n",
        "  binomial (Tian) |          0.33258 |              n/a |           0.0002\n",
        "    binomial (LR) |          0.33269 |              n/a |           0.0001\n",
        "       MC (crude) |          0.33030 |           0.0172 |           0.0025\n",
        "       MC (Sobol) |          0.33250 |              n/a |           0.0003\n"
       ]
      }
     ],
     "prompt_number": 50
    },
    {
     "cell_type": "code",
     "collapsed": false,
     "input": [],
     "language": "python",
     "metadata": {},
     "outputs": [],
     "prompt_number": 50
    },
    {
     "cell_type": "code",
     "collapsed": false,
     "input": [
      "from QuantLib import *\n",
      "\n",
      "# global data\n",
      "todaysDate = Date(17,May,2014)\n",
      "Settings.instance().evaluationDate = todaysDate\n",
      "settlementDate = Date(17,May,2014)\n",
      "riskFreeRate = FlatForward(settlementDate, 0.05, Actual365Fixed())\n",
      "\n",
      "# option parameters\n",
      "exercise = EuropeanExercise(Date(17,May,2015))\n",
      "payoff = PlainVanillaPayoff(Option.Call, 11.0)\n",
      "\n",
      "# market data\n",
      "underlying = SimpleQuote(10.0)\n",
      "volatility = BlackConstantVol(todaysDate, TARGET(), 0.10, Actual365Fixed())\n",
      "dividendYield = FlatForward(settlementDate, 0.05, Actual365Fixed())\n",
      "\n",
      "\n",
      "# good to go\n",
      "\n",
      "process = BlackScholesMertonProcess(QuoteHandle(underlying),\n",
      "                                    YieldTermStructureHandle(dividendYield),\n",
      "                                    YieldTermStructureHandle(riskFreeRate),\n",
      "                                    BlackVolTermStructureHandle(volatility))\n",
      "\n",
      "option = VanillaOption(payoff, exercise)\n",
      "\n",
      "# method: analytic\n",
      "option.setPricingEngine(AnalyticEuropeanEngine(process))\n",
      "value = option.NPV()\n",
      "print value,payoff(12)"
     ],
     "language": "python",
     "metadata": {},
     "outputs": [
      {
       "output_type": "stream",
       "stream": "stdout",
       "text": [
        "0.090742282856 1.0\n"
       ]
      }
     ],
     "prompt_number": 91
    },
    {
     "cell_type": "code",
     "collapsed": false,
     "input": [
      "p=[]\n",
      "poff=[]\n",
      "bs=[]\n",
      "for x in range(1,20):\n",
      "    underlying.setValue(x)\n",
      "    p.append(x)\n",
      "    poff.append(payoff(x))\n",
      "    bs.append(option.NPV() ) \n"
     ],
     "language": "python",
     "metadata": {},
     "outputs": [],
     "prompt_number": 92
    },
    {
     "cell_type": "code",
     "collapsed": false,
     "input": [
      "plot(p,poff)\n",
      "plot(p,bs)"
     ],
     "language": "python",
     "metadata": {},
     "outputs": [
      {
       "metadata": {},
       "output_type": "pyout",
       "prompt_number": 93,
       "text": [
        "[<matplotlib.lines.Line2D at 0x352f7d0>]"
       ]
      },
      {
       "metadata": {},
       "output_type": "display_data",
       "png": "[encoded data removed]",
       "text": [
        "<matplotlib.figure.Figure at 0x352fe50>"
       ]
      }
     ],
     "prompt_number": 93
    },
    {
     "cell_type": "code",
     "collapsed": false,
     "input": [],
     "language": "python",
     "metadata": {},
     "outputs": [],
     "prompt_number": 84
    },
    {
     "cell_type": "code",
     "collapsed": false,
     "input": [],
     "language": "python",
     "metadata": {},
     "outputs": []
    }
   ],
   "metadata": {}
  }
 ]
}