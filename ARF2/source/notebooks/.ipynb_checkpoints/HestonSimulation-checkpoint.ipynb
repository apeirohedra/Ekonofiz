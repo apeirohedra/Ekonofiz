{
 "metadata": {
  "name": ""
 },
 "nbformat": 3,
 "nbformat_minor": 0,
 "worksheets": [
  {
   "cells": [
    {
     "cell_type": "markdown",
     "metadata": {},
     "source": [
      "Heston Process Simulation\n",
      "=========================\n",
      "\n",
      "This notebook demonstrates the simulation of a Heston model. The asset price $S_t$ is governed by the process:\n",
      "\n",
      "$$\n",
      "\\frac{dS_t}{S_t} = \\mu dt + \\sqrt{\\nu_t} dW_t^s\n",
      "$$\n",
      "\n",
      "where the variance $\\nu_t$ is a CIR process: \n",
      "\n",
      "$$\n",
      "d \\nu_t = \\kappa (\\theta - \\nu_t) dt + \\eta \\sqrt{\\nu_t} dW_t^{\\nu}\n",
      "$$\n",
      "\n",
      "$dW_t^s$ and $dW_t^{\\nu}$ are Wiener processes with correlation $\\rho$.\n",
      "\n",
      "\n",
      "\n"
     ]
    },
    {
     "cell_type": "code",
     "collapsed": false,
     "input": [
      "import quantlib\n"
     ],
     "language": "python",
     "metadata": {},
     "outputs": [],
     "prompt_number": 1
    },
    {
     "cell_type": "code",
     "collapsed": false,
     "input": [
      "from quantlib.processes.heston_process import HestonProcess\n",
      "from quantlib.models.equity.heston_model import HestonModel\n",
      "from quantlib.quotes import SimpleQuote\n",
      "from quantlib.settings import Settings\n",
      "from quantlib.termstructures.yields.flat_forward import FlatForward\n",
      "from quantlib.time.api import today, NullCalendar, ActualActual\n"
     ],
     "language": "python",
     "metadata": {},
     "outputs": [],
     "prompt_number": 2
    },
    {
     "cell_type": "markdown",
     "metadata": {},
     "source": [
      "The Heston Process\n",
      "------------------"
     ]
    },
    {
     "cell_type": "code",
     "collapsed": false,
     "input": [
      "\n",
      "def flat_rate(forward, daycounter):\n",
      "    return FlatForward(\n",
      "        forward          = forward,\n",
      "        settlement_days = 0,\n",
      "        calendar        = NullCalendar(),\n",
      "        daycounter      = daycounter\n",
      "    )\n",
      "\n",
      "settings = Settings.instance()\n",
      "settlement_date = today()\n",
      "settings.evaluation_date = settlement_date\n",
      "\n",
      "daycounter = ActualActual()\n",
      "calendar = NullCalendar()\n",
      "\n",
      "interest_rate = .1\n",
      "dividend_yield = .04\n",
      "\n",
      "risk_free_ts = flat_rate(interest_rate, daycounter)\n",
      "dividend_ts = flat_rate(dividend_yield, daycounter)\n",
      "\n",
      "s0 = SimpleQuote(100.0)\n",
      "\n",
      "# Heston model\n",
      "\n",
      "v0 = 0.05\n",
      "kappa = 5.0;\n",
      "theta = 0.05;\n",
      "sigma = 1.0e-4;\n",
      "rho = -0.5;\n",
      "\n",
      "process = HestonProcess(risk_free_ts, dividend_ts, s0, v0,\n",
      "                       kappa, theta, sigma, rho)\n"
     ],
     "language": "python",
     "metadata": {},
     "outputs": [],
     "prompt_number": 3
    },
    {
     "cell_type": "markdown",
     "metadata": {},
     "source": [
      "The simulation\n",
      "--------------\n",
      "\n",
      "The *simulate* function is not part of Quantlib. It has been added to the pyQL interface (see folder quantlib/sim). This illustrates how to create extensions to Quantlib and expose them to python.\n"
     ]
    },
    {
     "cell_type": "code",
     "collapsed": false,
     "input": [
      "%%time\n",
      "import pylab as pl\n",
      "from quantlib.sim.simulate import simulateHeston\n",
      "\n",
      "# simulate and plot Heston paths\n",
      "paths = 200\n",
      "steps = 100\n",
      "horizon = 2\n",
      "seed = 12345\n",
      "\n",
      "model = HestonModel(process)\n",
      "res = simulateHeston(model, paths, steps, horizon, seed)\n",
      "\n",
      "time = res[0,:]\n",
      "simulations = res[1:, :].T\n",
      "pl.plot(time, simulations)\n",
      "pl.xlabel('Time')\n",
      "pl.ylabel('Stock Price')\n",
      "pl.title('Heston Process Simulation')\n",
      "pl.show()\n",
      "\n"
     ],
     "language": "python",
     "metadata": {},
     "outputs": [
      {
       "output_type": "stream",
       "stream": "stdout",
       "text": [
        "CPU times: user 1.57 s, sys: 152 ms, total: 1.72 s\n",
        "Wall time: 8.83 s\n"
       ]
      }
     ],
     "prompt_number": 6
    },
    {
     "cell_type": "code",
     "collapsed": false,
     "input": [],
     "language": "python",
     "metadata": {},
     "outputs": [],
     "prompt_number": 3
    }
   ],
   "metadata": {}
  }
 ]
}