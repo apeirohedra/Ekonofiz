{
 "metadata": {
  "name": ""
 },
 "nbformat": 3,
 "nbformat_minor": 0,
 "worksheets": [
  {
   "cells": [
    {
     "cell_type": "code",
     "collapsed": false,
     "input": [
      "#%loadpy /home/marcin/Desktop/One/Book_Z_Markiem/QL/optionloop.py\n",
      "    "
     ],
     "language": "python",
     "metadata": {},
     "outputs": [],
     "prompt_number": 4
    },
    {
     "cell_type": "code",
     "collapsed": false,
     "input": [
      "from QuantLib import *\n",
      "import matplotlib.pyplot as plt\n",
      "\n",
      "# dates\n",
      "calendar=TARGET()\n",
      "todaysDate = Date(15,May,2009)\n",
      "Settings.instance().evaluationDate = todaysDate\n",
      "settlementDate = Date(17,May,2009)\n",
      "maturity = Date(17,May, 2010)\n",
      "dayCounter = Actual365Fixed()\n",
      "\n",
      "#option parameters\n",
      "type = Option.Put\n",
      "underlying = 36.0\n",
      "strike = 40.0\n",
      "dividendYield = 0.0\n",
      "riskFreeRate = 0.06\n",
      "volatility = 0.10\n",
      "\n",
      "# handle setups\n",
      "uQuote = SimpleQuote(underlying)\n",
      "underlyingH = QuoteHandle(uQuote)\n",
      "flatTermStructure = YieldTermStructureHandle(FlatForward(settlementDate,\n",
      "                                                         riskFreeRate,\n",
      "                                                         dayCounter))\n",
      "dividendYield = YieldTermStructureHandle(FlatForward(settlementDate, \n",
      "                                                     dividendYield,\n",
      "                                                     dayCounter))\n",
      "flatVolTS = BlackVolTermStructureHandle(BlackConstantVol(settlementDate, \n",
      "                                                         calendar,\n",
      "                                                         volatility,\n",
      "                                                         dayCounter))\n",
      "\n",
      "# basic option\n",
      "payoff = PlainVanillaPayoff(type, strike)\n",
      "exercise = EuropeanExercise(maturity)\n",
      "europeanOption = VanillaOption(payoff, exercise)\n",
      "\n",
      "# done\n",
      "bsmProcess = BlackScholesMertonProcess(underlyingH,\n",
      "                                       dividendYield,\n",
      "                                       flatTermStructure,\n",
      "                                       flatVolTS)\n",
      "\n",
      "#method: analytic\n",
      "europeanOption.setPricingEngine(AnalyticEuropeanEngine(bsmProcess))\n",
      "value = europeanOption.NPV()\n",
      "print \"European option value \", value\n",
      "\n",
      "# method: finite differences\n",
      "timeSteps = 101\n",
      "gridPoints = 100\n",
      "\n",
      "europeanOption.setPricingEngine(FDEuropeanEngine(bsmProcess,\n",
      "                                                 timeSteps,\n",
      "                                                 gridPoints))\n",
      "print \"European option value \", europeanOption.NPV()\n",
      "\n",
      "# method: Monte Carlo\n",
      "europeanOption.setPricingEngine(MCEuropeanEngine(bsmProcess,\n",
      "                                                'pseudorandom',\n",
      "                                                 timeSteps = 1,\n",
      "                                                 requiredTolerance = 0.002,\n",
      "                                                 seed = 2))\n",
      "print \"European option value \", europeanOption.NPV()\n",
      "\n",
      "\n",
      "#American option\n",
      "exercisa = AmericanExercise(settlementDate,maturity)\n",
      "americanOption = VanillaOption(payoff,exercisa)\n",
      "americanOption.setPricingEngine(FDAmericanEngine(bsmProcess,101,100))\n",
      "\n",
      "\n",
      "# returns European option value for underlying at x\n",
      "#def eOptionAtQ(x):\n",
      "#    uQuote.setValue(x)\n",
      "#    return europeanOption.NPV()\n",
      "\n",
      "# returns American option value for underlying at x\n",
      "#def aOptionAtQ(x):\n",
      "#    uQuote.setValue(x)\n",
      "#    return americanOption.NPV()\n",
      "\n",
      "#xr = range(20,60)\n",
      "#ye = map(eOptionAtQ,xr)\n",
      "#ya = map(aOptionAtQ,xr) \n",
      "#yp = map(payoff,xr)\n",
      "\n",
      "europeanOption.setPricingEngine(AnalyticEuropeanEngine(bsmProcess))\n",
      "\n",
      "xr=range(20,60)\n",
      "ye=[]\n",
      "ya=[]\n",
      "yp=[]\n",
      "\n",
      "for x in range(20,60):\n",
      "    uQuote.setValue(x)\n",
      "    ye.append(europeanOption.NPV())\n",
      "    ya.append(americanOption.NPV())\n",
      "    yp.append(payoff(x))\n",
      "\n",
      "#plt.plot(xr,yr,'g')\n",
      "plt.plot(xr,ye,'g',xr,yp,'r',xr,ya,'b')\n",
      "plt.show()\n",
      "\n"
     ],
     "language": "python",
     "metadata": {},
     "outputs": [
      {
       "output_type": "stream",
       "stream": "stdout",
       "text": [
        "European option value  2.45261880786\n",
        "European option value  "
       ]
      },
      {
       "output_type": "stream",
       "stream": "stdout",
       "text": [
        "2.45460183958\n",
        "European option value  "
       ]
      },
      {
       "output_type": "stream",
       "stream": "stdout",
       "text": [
        "2.45749701366\n"
       ]
      },
      {
       "metadata": {},
       "output_type": "display_data",
       "png": "[encoded data removed]",
       "text": [
        "<matplotlib.figure.Figure at 0x406dc10>"
       ]
      }
     ],
     "prompt_number": 5
    },
    {
     "cell_type": "code",
     "collapsed": false,
     "input": [],
     "language": "python",
     "metadata": {},
     "outputs": []
    }
   ],
   "metadata": {}
  }
 ]
}